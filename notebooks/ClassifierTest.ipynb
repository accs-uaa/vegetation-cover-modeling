{
 "cells": [
  {
   "cell_type": "code",
   "execution_count": null,
   "metadata": {},
   "outputs": [],
   "source": [
    "# -*- coding: utf-8 -*-\n",
    "# ---------------------------------------------------------------------------\n",
    "# Classifiers Performance Test\n",
    "# Author: Timm Nawrocki, Alaska Center for Conservation Science\n",
    "# Created on: 2018-08-18\n",
    "# Usage: Must be executed as a Jupyter Notebook in an Anaconda 3 installation on a Google Cloud virtual machine with 64 vCPUs and 57.6 GB of CPU memory with an Ubuntu operating system (18.04 LTS).\n",
    "# Description: \"Classifiers Performance Test\" runs a single classifier to test the prediction speed on a Google Cloud virtual machine. This script is intended only for infrastructure testing and is not necessary to the analyses.\n",
    "# ---------------------------------------------------------------------------"
   ]
  },
  {
   "cell_type": "markdown",
   "metadata": {},
   "source": [
    "This script is a resource test script to ensure that models are performing optimally on Google Cloud virtual machines. This script and its outputs are not necessary to the analyses and can be ignored after testing the prediction performance."
   ]
  },
  {
   "cell_type": "code",
   "execution_count": null,
   "metadata": {},
   "outputs": [],
   "source": [
    "# Import modules\n",
    "\n",
    "import os\n",
    "import numpy as np\n",
    "import pandas as pd\n",
    "from sklearn.ensemble import RandomForestClassifier\n",
    "from sklearn.externals import joblib\n",
    "print(\"All modules successfully imported.\")"
   ]
  },
  {
   "cell_type": "code",
   "execution_count": null,
   "metadata": {},
   "outputs": [],
   "source": [
    "# Define user input variables\n",
    "print('Enter root directory:')\n",
    "root_folder = input()\n",
    "print('Enter name of output folder:')\n",
    "output_folder = input()\n",
    "print('Enter name of predict folder:')\n",
    "prediction_folder = input()\n",
    "print('Enter classifier to be tested:')\n",
    "classifier_name = input()\n",
    "print('Enter threshold file name:')\n",
    "threshold_name = input()\n",
    "print('All user-defined variables input.')"
   ]
  },
  {
   "cell_type": "code",
   "execution_count": null,
   "metadata": {},
   "outputs": [],
   "source": [
    "# Define variable sets\n",
    "predictor_variables = ['compoundTopographic', 'dateFreeze_2000s', 'dateThaw_2000s', 'elevation', 'floodplainsDist', 'growingSeason_2000s', 'heatLoad', 'integratedMoisture', 'precipAnnual_2000s', 'roughness', 'siteExposure', 'slope', 'streamLargeDist', 'streamSmallDist', 'summerWarmth_2000s', 'surfaceArea', 'surfaceRelief', 'aspect', 'l8_evi2', 'l8_green', 'l8_nbr', 'l8_ndmi', 'l8_ndsi', 'l8_ndvi', 'l8_ndwi', 'l8_nearInfrared', 'l8_red', 'l8_shortInfrared1', 'l8_shortInfrared2', 'l8_ultrablue', 'l8_blue']\n",
    "coordinates = ['POINT_X', 'POINT_Y']\n",
    "output_variables = coordinates + ['predict_0', 'predict_10', 'predict_25', 'classification']\n",
    "print('Variable sets loaded.')"
   ]
  },
  {
   "cell_type": "code",
   "execution_count": null,
   "metadata": {},
   "outputs": [],
   "source": [
    "# Define a function to read threshold values from text file\n",
    "def readThreshold(inFile):\n",
    "    threshold_reader = open(inFile, \"r\")\n",
    "    threshold = threshold_reader.readlines()\n",
    "    threshold_reader.close()\n",
    "    outThreshold = int(threshold[0])\n",
    "    return outThreshold\n",
    "\n",
    "print('Function \"readThreshold\" loaded.')"
   ]
  },
  {
   "cell_type": "code",
   "execution_count": null,
   "metadata": {},
   "outputs": [],
   "source": [
    "# Define a function to use a random forest classifier to make a probability prediction, threshold the prediction, and output to dataframe\n",
    "def predictModel(inModel, inThreshold, inDataframe, variable):\n",
    "    prediction = inModel.predict_proba(inDataframe[predictor_variables])\n",
    "    predict_index = [int((p[1] * 1000) + 0.5) for p in prediction]\n",
    "    predict_index = np.asarray(predict_index)\n",
    "    outThresholded = np.zeros(predict_index.shape)\n",
    "    outThresholded[predict_index > inThreshold] = 1\n",
    "    inDataframe = pd.concat([inDataframe, pd.DataFrame(outThresholded)], axis=1)\n",
    "    inDataframe = inDataframe.rename(index=int, columns={0: variable})\n",
    "    return prediction, inDataframe\n",
    "\n",
    "print('Function \"predictModel\" loaded.')"
   ]
  },
  {
   "cell_type": "code",
   "execution_count": null,
   "metadata": {},
   "outputs": [],
   "source": [
    "# Import model the zero, ten, and twentyfive classifiers\n",
    "model = joblib.load(os.path.join(output_folder, classifier_name))\n",
    "print(model)"
   ]
  },
  {
   "cell_type": "code",
   "execution_count": null,
   "metadata": {},
   "outputs": [],
   "source": [
    "# Read thresholds from text files in the workspace folder and store as variables\n",
    "threshold = readThreshold(os.path.join(output_folder, threshold_name))\n",
    "print('Threshold: ' + str(threshold))"
   ]
  },
  {
   "cell_type": "code",
   "execution_count": null,
   "metadata": {},
   "outputs": [],
   "source": [
    "# Create a prediction dataframe for the test using T1906050111\n",
    "predict_csv = os.path.join(os.path.join(root_folder, 'watershedData'), 'T1906050111.csv')\n",
    "output_csv = os.path.join(prediction_folder, 'T1906050111.csv')\n",
    "predict_df = pd.read_csv(predict_csv)\n",
    "predict_df[predictor_variables] = predict_df[predictor_variables].astype(int)\n",
    "print(predict_df)"
   ]
  },
  {
   "cell_type": "code",
   "execution_count": null,
   "metadata": {},
   "outputs": [],
   "source": [
    "prediction, predict_df = predictModel(model, threshold, predict_df, 'predict_test')\n",
    "print(prediction)"
   ]
  },
  {
   "cell_type": "code",
   "execution_count": null,
   "metadata": {},
   "outputs": [],
   "source": [
    "print(predict_df)"
   ]
  }
 ],
 "metadata": {
  "kernelspec": {
   "display_name": "Python 3",
   "language": "python",
   "name": "python3"
  },
  "language_info": {
   "codemirror_mode": {
    "name": "ipython",
    "version": 3
   },
   "file_extension": ".py",
   "mimetype": "text/x-python",
   "name": "python",
   "nbconvert_exporter": "python",
   "pygments_lexer": "ipython3",
   "version": "3.6.5"
  }
 },
 "nbformat": 4,
 "nbformat_minor": 2
}
