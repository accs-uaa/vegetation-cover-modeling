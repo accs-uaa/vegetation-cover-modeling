{
 "cells": [
  {
   "cell_type": "code",
   "execution_count": 1,
   "metadata": {},
   "outputs": [
    {
     "name": "stdout",
     "output_type": "stream",
     "text": [
      "All modules successfully imported.\n"
     ]
    }
   ],
   "source": [
    "# Import modules\n",
    "import os\n",
    "import numpy as np\n",
    "import pandas as pd\n",
    "from sklearn.metrics import mean_squared_error\n",
    "from sklearn.metrics import mean_absolute_error\n",
    "from sklearn.metrics import r2_score\n",
    "print('All modules successfully imported.')"
   ]
  },
  {
   "cell_type": "code",
   "execution_count": 2,
   "metadata": {},
   "outputs": [],
   "source": [
    "# Define input file\n",
    "test_file = 'K:/VegetationEcology/Data_Harmonization/Project_GIS/Data_Output/continuous/modelResults/eriophorum_vaginatum_xgb_aim/prediction.csv'\n",
    "# Define true response\n",
    "true = ['cover']\n",
    "# Define predicted response\n",
    "predicted = ['response']\n",
    "# Create data frame for each file\n",
    "test_data = pd.read_csv(test_file)"
   ]
  },
  {
   "cell_type": "markdown",
   "metadata": {},
   "source": [
    "### Overall Performance of Abundance"
   ]
  },
  {
   "cell_type": "code",
   "execution_count": 3,
   "metadata": {},
   "outputs": [],
   "source": [
    "# Subset the data to presences\n",
    "test_data = test_data[test_data[true[0]] >= 1]"
   ]
  },
  {
   "cell_type": "code",
   "execution_count": 4,
   "metadata": {},
   "outputs": [],
   "source": [
    "# Calculate r2 and error for python raw cover\n",
    "y_test = test_data[true[0]]\n",
    "test_prediction = test_data[predicted[0]]\n",
    "r_score = r2_score(y_test, test_prediction, sample_weight=None, multioutput='uniform_average')\n",
    "mae = mean_absolute_error(y_test, test_prediction)\n",
    "mse = mean_squared_error(y_test, test_prediction)\n",
    "rmse = np.sqrt(mse)"
   ]
  },
  {
   "cell_type": "code",
   "execution_count": 5,
   "metadata": {},
   "outputs": [
    {
     "name": "stdout",
     "output_type": "stream",
     "text": [
      "-0.9254536589072633\n",
      "21.70736979959432\n",
      "17.931103822668426\n"
     ]
    }
   ],
   "source": [
    "# Calculate overall performance\n",
    "print(r_score)\n",
    "print(rmse)\n",
    "print(mae)"
   ]
  },
  {
   "cell_type": "markdown",
   "metadata": {},
   "source": [
    "### 10 m grid"
   ]
  },
  {
   "cell_type": "code",
   "execution_count": 6,
   "metadata": {},
   "outputs": [],
   "source": [
    "# Subset the data to ABR Shell\n",
    "ten_data = test_data[(test_data['project'] != 'ABR Shell') & (test_data['project'] != 'AIM NPR-A')]"
   ]
  },
  {
   "cell_type": "code",
   "execution_count": 7,
   "metadata": {},
   "outputs": [],
   "source": [
    "# Calculate r2 and error for python raw cover\n",
    "y_test = ten_data[true[0]]\n",
    "test_prediction = ten_data[predicted[0]]\n",
    "r_score = r2_score(y_test, test_prediction, sample_weight=None, multioutput='uniform_average')\n",
    "mae = mean_absolute_error(y_test, test_prediction)\n",
    "mse = mean_squared_error(y_test, test_prediction)\n",
    "rmse = np.sqrt(mse)"
   ]
  },
  {
   "cell_type": "code",
   "execution_count": 8,
   "metadata": {},
   "outputs": [
    {
     "name": "stdout",
     "output_type": "stream",
     "text": [
      "-0.34312088784618666\n",
      "20.125666350144623\n",
      "15.91493201491209\n"
     ]
    }
   ],
   "source": [
    "# Calculate overall performance\n",
    "print(r_score)\n",
    "print(rmse)\n",
    "print(mae)"
   ]
  },
  {
   "cell_type": "markdown",
   "metadata": {},
   "source": [
    "### AIM NPR-A (60 m grid)"
   ]
  },
  {
   "cell_type": "code",
   "execution_count": 9,
   "metadata": {},
   "outputs": [],
   "source": [
    "# Subset the data to AIM NPR-A\n",
    "aim_data = test_data[test_data['project'] == 'AIM NPR-A']"
   ]
  },
  {
   "cell_type": "code",
   "execution_count": 10,
   "metadata": {},
   "outputs": [],
   "source": [
    "# Calculate r2 and error for python raw cover\n",
    "y_test = aim_data[true[0]]\n",
    "test_prediction = aim_data[predicted[0]]\n",
    "r_score = r2_score(y_test, test_prediction, sample_weight=None, multioutput='uniform_average')\n",
    "mae = mean_absolute_error(y_test, test_prediction)\n",
    "mse = mean_squared_error(y_test, test_prediction)\n",
    "rmse = np.sqrt(mse)"
   ]
  },
  {
   "cell_type": "code",
   "execution_count": 11,
   "metadata": {},
   "outputs": [
    {
     "name": "stdout",
     "output_type": "stream",
     "text": [
      "0.44901814315201904\n",
      "15.876790080581165\n",
      "12.414196685863114\n"
     ]
    }
   ],
   "source": [
    "# Calculate performance of 60 m data\n",
    "print(r_score)\n",
    "print(rmse)\n",
    "print(mae)"
   ]
  },
  {
   "cell_type": "markdown",
   "metadata": {},
   "source": [
    "### ABR Shell (110 m grid)"
   ]
  },
  {
   "cell_type": "code",
   "execution_count": 12,
   "metadata": {},
   "outputs": [],
   "source": [
    "# Subset the data to ABR Shell\n",
    "abr_data = test_data[test_data['project'] == 'ABR Shell']"
   ]
  },
  {
   "cell_type": "code",
   "execution_count": 13,
   "metadata": {},
   "outputs": [],
   "source": [
    "# Calculate r2 and error for python raw cover\n",
    "y_test = abr_data[true[0]]\n",
    "test_prediction = abr_data[predicted[0]]\n",
    "r_score = r2_score(y_test, test_prediction, sample_weight=None, multioutput='uniform_average')\n",
    "mae = mean_absolute_error(y_test, test_prediction)\n",
    "mse = mean_squared_error(y_test, test_prediction)\n",
    "rmse = np.sqrt(mse)"
   ]
  },
  {
   "cell_type": "code",
   "execution_count": 14,
   "metadata": {},
   "outputs": [
    {
     "name": "stdout",
     "output_type": "stream",
     "text": [
      "-6.885651779185349\n",
      "24.482674616397368\n",
      "21.496489188443178\n"
     ]
    }
   ],
   "source": [
    "# Calculate performance of 110 m data\n",
    "print(r_score)\n",
    "print(rmse)\n",
    "print(mae)"
   ]
  },
  {
   "cell_type": "code",
   "execution_count": null,
   "metadata": {},
   "outputs": [],
   "source": []
  }
 ],
 "metadata": {
  "kernelspec": {
   "display_name": "Python 3",
   "language": "python",
   "name": "python3"
  },
  "language_info": {
   "codemirror_mode": {
    "name": "ipython",
    "version": 3
   },
   "file_extension": ".py",
   "mimetype": "text/x-python",
   "name": "python",
   "nbconvert_exporter": "python",
   "pygments_lexer": "ipython3",
   "version": "3.6.5"
  }
 },
 "nbformat": 4,
 "nbformat_minor": 2
}
