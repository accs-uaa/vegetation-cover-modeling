{
 "cells": [
  {
   "cell_type": "code",
   "execution_count": 1,
   "metadata": {},
   "outputs": [
    {
     "name": "stdout",
     "output_type": "stream",
     "text": [
      "All modules successfully imported.\n"
     ]
    }
   ],
   "source": [
    "# Import modules\n",
    "import os\n",
    "import numpy as np\n",
    "import pandas as pd\n",
    "import seaborn as sns\n",
    "import matplotlib.pyplot as plot\n",
    "from sklearn.model_selection import train_test_split\n",
    "from sklearn.ensemble import RandomForestClassifier\n",
    "from sklearn.ensemble import RandomForestRegressor\n",
    "from sklearn.linear_model import LogisticRegression\n",
    "from sklearn.preprocessing import PolynomialFeatures\n",
    "from sklearn.svm import SVC\n",
    "from sklearn.metrics import accuracy_score\n",
    "from sklearn.metrics import confusion_matrix\n",
    "from sklearn.metrics import roc_curve\n",
    "from sklearn.metrics import auc\n",
    "from sklearn.metrics import roc_auc_score\n",
    "from sklearn.metrics import mean_squared_error\n",
    "from sklearn.metrics import mean_absolute_error\n",
    "from sklearn.externals import joblib\n",
    "from sklearn.metrics import r2_score\n",
    "from sklearn.preprocessing import StandardScaler\n",
    "from sklearn.model_selection import StratifiedShuffleSplit\n",
    "from sklearn.model_selection import ShuffleSplit\n",
    "from sklearn.model_selection import GridSearchCV\n",
    "from sklearn.model_selection import stratifiedKFold\n",
    "from sklearn.model_selection import KFold\n",
    "from imblearn.over_sampling import RandomOverSampler, SMOTE, ADASYN\n",
    "from sklearn.svm import SVR\n",
    "from collections import Counter\n",
    "from matplotlib.colors import Normalize\n",
    "from xgboost import XGBClassifier\n",
    "from xgboost import XGBRegressor\n",
    "from bayes_opt import BayesianOptimization\n",
    "print('All modules successfully imported.')"
   ]
  },
  {
   "cell_type": "code",
   "execution_count": 3,
   "metadata": {},
   "outputs": [
    {
     "name": "stdout",
     "output_type": "stream",
     "text": [
      "Variable sets loaded.\n"
     ]
    }
   ],
   "source": [
    "# Define variable sets\n",
    "predictor_all = ['compoundTopographic', 'dateFreeze_2000s', 'dateThaw_2000s', 'elevation', 'floodplainsDist', 'growingSeason_2000s', 'heatLoad', 'integratedMoisture', 'precipAnnual_2000s', 'roughness', 'siteExposure', 'slope', 'streamLargeDist', 'streamSmallDist', 'summerWarmth_2000s', 'surfaceArea', 'surfaceRelief', 'aspect', 'may_1_ultraBlue', 'may_2_blue', 'may_3_green', 'may_4_red', 'may_5_nearInfrared', 'may_6_shortInfrared1', 'may_7_shortInfrared2', 'may_evi2', 'may_nbr', 'may_ndmi', 'may_ndsi', 'may_ndvi', 'may_ndwi', 'june_1_ultraBlue', 'june_2_blue', 'june_3_green', 'june_4_red', 'june_5_nearInfrared', 'june_6_shortInfrared1', 'june_7_shortInfrared2', 'june_evi2', 'june_nbr', 'june_ndmi', 'june_ndsi', 'june_ndvi', 'june_ndwi', 'july_1_ultraBlue', 'july_2_blue', 'july_3_green', 'july_4_red', 'july_5_nearInfrared', 'july_6_shortInfrared1', 'july_7_shortInfrared2', 'july_evi2', 'july_nbr', 'july_ndmi', 'july_ndsi', 'july_ndvi', 'july_ndwi', 'august_1_ultraBlue', 'august_2_blue', 'august_3_green', 'august_4_red', 'august_5_nearInfrared', 'august_6_shortInfrared1', 'august_7_shortInfrared2', 'august_evi2', 'august_nbr', 'august_ndmi', 'august_ndsi', 'august_ndvi', 'august_ndwi', 'september_1_ultraBlue', 'september_2_blue', 'september_3_green', 'september_4_red', 'september_5_nearInfrared', 'september_6_shortInfrared1', 'september_7_shortInfrared2', 'september_evi2', 'september_nbr', 'september_ndmi', 'september_ndsi', 'september_ndvi', 'september_ndwi']\n",
    "predictor_metrics = ['compoundTopographic', 'dateFreeze_2000s', 'dateThaw_2000s', 'elevation', 'floodplainsDist', 'growingSeason_2000s', 'heatLoad', 'integratedMoisture', 'precipAnnual_2000s', 'roughness', 'siteExposure', 'slope', 'streamLargeDist', 'streamSmallDist', 'summerWarmth_2000s', 'surfaceArea', 'surfaceRelief', 'aspect', 'may_2_blue', 'may_evi2', 'may_nbr', 'may_ndmi', 'may_ndsi', 'may_ndvi', 'may_ndwi', 'june_2_blue', 'june_evi2', 'june_nbr', 'june_ndmi', 'june_ndsi', 'june_ndvi', 'june_ndwi', 'july_2_blue', 'july_evi2', 'july_nbr', 'july_ndmi', 'july_ndsi', 'july_ndvi', 'july_ndwi', 'august_2_blue', 'august_evi2', 'august_nbr', 'august_ndmi', 'august_ndsi', 'august_ndvi', 'august_ndwi', 'september_2_blue', 'september_evi2', 'september_nbr', 'september_ndmi', 'september_ndsi', 'september_ndvi', 'september_ndwi']\n",
    "predictor_midsummer = ['compoundTopographic', 'dateFreeze_2000s', 'dateThaw_2000s', 'elevation', 'floodplainsDist', 'growingSeason_2000s', 'heatLoad', 'integratedMoisture', 'precipAnnual_2000s', 'roughness', 'siteExposure', 'slope', 'streamLargeDist', 'streamSmallDist', 'summerWarmth_2000s', 'surfaceArea', 'surfaceRelief', 'aspect', 'july_1_ultraBlue', 'july_2_blue', 'july_3_green', 'july_4_red', 'july_5_nearInfrared', 'july_6_shortInfrared1', 'july_7_shortInfrared2', 'july_evi2', 'july_nbr', 'july_ndmi', 'july_ndsi', 'july_ndvi', 'july_ndwi', 'strata']\n",
    "predictor_raw = ['compoundTopographic', 'dateFreeze_2000s', 'dateThaw_2000s', 'elevation', 'floodplainsDist', 'growingSeason_2000s', 'heatLoad', 'integratedMoisture', 'precipAnnual_2000s', 'roughness', 'siteExposure', 'slope', 'streamLargeDist', 'streamSmallDist', 'summerWarmth_2000s', 'surfaceArea', 'surfaceRelief', 'aspect', 'may_1_ultraBlue', 'may_2_blue', 'may_3_green', 'may_4_red', 'may_5_nearInfrared', 'may_6_shortInfrared1', 'may_7_shortInfrared2', 'june_1_ultraBlue', 'june_2_blue', 'june_3_green', 'june_4_red', 'june_5_nearInfrared', 'june_6_shortInfrared1', 'june_7_shortInfrared2', 'july_1_ultraBlue', 'july_2_blue', 'july_3_green', 'july_4_red', 'july_5_nearInfrared', 'july_6_shortInfrared1', 'july_7_shortInfrared2', 'august_1_ultraBlue', 'august_2_blue', 'august_3_green', 'august_4_red', 'august_5_nearInfrared', 'august_6_shortInfrared1', 'august_7_shortInfrared2', 'september_1_ultraBlue', 'september_2_blue', 'september_3_green', 'september_4_red', 'september_5_nearInfrared', 'september_6_shortInfrared1', 'september_7_shortInfrared2']\n",
    "zero_variable = ['zero']\n",
    "strata = ['strata']\n",
    "cover = ['cover']\n",
    "coverLog = ['coverLog']\n",
    "coverLogInt = ['coverLogInt']\n",
    "retain_variables = ['project', 'siteID', 'siteCode', 'methodSurvey', 'methodCover']\n",
    "coordinates = ['POINT_X', 'POINT_Y']\n",
    "all_variables = retain_variables + coordinates + predictor_metrics + zero_variable + strata + cover + coverLog + coverLogInt\n",
    "print('Variable sets loaded.')"
   ]
  },
  {
   "cell_type": "code",
   "execution_count": 7,
   "metadata": {},
   "outputs": [],
   "source": [
    "# Define input file\n",
    "input_file = 'K:/VegetationEcology/Data_Harmonization/Project_GIS/Data_Output/speciesData/betula_nana.csv'\n",
    "# Create data frame of input data\n",
    "input_data = pd.read_csv(input_file)\n",
    "input_data.reset_index()\n",
    "# Convert values to floats\n",
    "input_data[predictor_all + cover + coordinates] = input_data[predictor_all + cover + coordinates].astype(float)\n",
    "# Convert values to integers\n",
    "input_data[strata + zero_variable] = input_data[strata + zero_variable].astype(int)"
   ]
  },
  {
   "cell_type": "code",
   "execution_count": null,
   "metadata": {},
   "outputs": [],
   "source": [
    "# Define a function to calculate Log2(Cover+1)\n",
    "def calculateLog2(n):\n",
    "    out_log = np.log2(n+1)\n",
    "    return out_log"
   ]
  },
  {
   "cell_type": "code",
   "execution_count": null,
   "metadata": {},
   "outputs": [],
   "source": [
    "# Define a function to calculate Log2(Cover+1) rounded to the nearest integer\n",
    "def calculateLog2Int(n):\n",
    "    out_log = np.round(np.log2(n+1), 0).astype(int)\n",
    "    return out_log"
   ]
  },
  {
   "cell_type": "code",
   "execution_count": null,
   "metadata": {},
   "outputs": [],
   "source": [
    "# Add a column of LOG2(Cover+1)\n",
    "input_data[coverLog] = input_data[cover].apply(calculateLog2, axis=0)\n",
    "# Add a column of LOG2(Cover+1) rounded to the nearest integer\n",
    "input_data[coverLogInt] = input_data[cover].apply(calculateLog2Int, axis=0)"
   ]
  },
  {
   "cell_type": "code",
   "execution_count": null,
   "metadata": {},
   "outputs": [],
   "source": [
    "# Create a function to merge data into another sample class\n",
    "def mergeClass(inData, location, column, inValue):\n",
    "    count = inData.loc[location == inValue, column].count()[0]\n",
    "    if count < 20:\n",
    "        inData.loc[location == inValue, column] = inValue - 1\n",
    "    return inData"
   ]
  },
  {
   "cell_type": "code",
   "execution_count": null,
   "metadata": {},
   "outputs": [],
   "source": [
    "# Merge classes that have fewer than 20 observations\n",
    "i = 7\n",
    "while i > 1:\n",
    "    mergeClass(input_data, input_data.coverLogInt, coverLogInt, i)\n",
    "    i=i-1"
   ]
  },
  {
   "cell_type": "code",
   "execution_count": null,
   "metadata": {},
   "outputs": [],
   "source": [
    "len(input_data.loc[input_data.coverLogInt == 7, coverLogInt])"
   ]
  },
  {
   "cell_type": "code",
   "execution_count": null,
   "metadata": {},
   "outputs": [],
   "source": [
    "# Create a function to create and scale the train and test partitions\n",
    "def partitionData(inData, all_variables, predictors, response, strata):\n",
    "    # Create train and test splits\n",
    "    X = inData[all_variables]\n",
    "    y = inData[response[0]]\n",
    "    stratify = inData[strata[0]]\n",
    "    all_train, all_test, y_train, y_test = train_test_split(X, y, test_size = 0.3, train_size = 0.7, random_state = None, shuffle = True, stratify = stratify)\n",
    "    # Reset the index on the train and test splits\n",
    "    all_train = all_train.reset_index()\n",
    "    all_test = all_test.reset_index()\n",
    "    # Create a standard scaler to scale all covariates to Gaussian distribution\n",
    "    scaler = StandardScaler()\n",
    "    scaler.fit(all_train[predictors])\n",
    "    # Scale the train X data\n",
    "    train_scaled = scaler.transform(all_train[predictor_metrics])\n",
    "    all_train = all_train.drop(columns=predictor_metrics)\n",
    "    all_train = pd.concat([all_train, pd.DataFrame(data=train_scaled, columns=predictor_metrics)], axis=1)\n",
    "    # Scale the test X data\n",
    "    test_scaled = scaler.transform(all_test[predictor_metrics])\n",
    "    all_test = all_test.drop(columns=predictor_metrics)\n",
    "    all_test = pd.concat([all_test, pd.DataFrame(data=test_scaled, columns=predictor_metrics)], axis=1)\n",
    "    return all_train, all_test"
   ]
  },
  {
   "cell_type": "code",
   "execution_count": null,
   "metadata": {},
   "outputs": [],
   "source": [
    "# Define a function to calculate performance metrics based on a specified threshold value\n",
    "def testAbsenceThreshold(absenceProbability, threshold, presenceData):\n",
    "    outThresholded = np.zeros(absenceProbability.shape)\n",
    "    outThresholded[outThresholded == 0] = 1\n",
    "    outThresholded[absenceProbability > threshold] = 0\n",
    "    confusion_test = confusion_matrix(presenceData, outThresholded)\n",
    "    true_negative = confusion_test[0,0]\n",
    "    false_negative = confusion_test[1,0]\n",
    "    true_positive = confusion_test[1,1]\n",
    "    false_positive = confusion_test[0,1]\n",
    "    outSensitivity = true_positive / (true_positive + false_negative)\n",
    "    outSpecificity = true_negative / (true_negative + false_positive)\n",
    "    outAUC = roc_auc_score(presenceData, 1-absenceProbability)\n",
    "    outAccuracy = (true_negative + true_positive) / (true_negative + false_positive + false_negative + true_positive)\n",
    "    return (outThresholded, outSensitivity, outSpecificity, outAUC, outAccuracy)\n",
    "\n",
    "print('Function \"thresholdMetrics\" loaded.')"
   ]
  },
  {
   "cell_type": "code",
   "execution_count": null,
   "metadata": {},
   "outputs": [],
   "source": [
    "# Create a function to determine an absence threshold\n",
    "def determineOptimalThreshold(inPrediction, inTest):\n",
    "    # Iterate through numbers between 0 and 1000 to output a list of sensitivity and specificity values per threshold number\n",
    "    i = 1\n",
    "    sensitivity_list = []\n",
    "    specificity_list = []\n",
    "    while i < 1001:\n",
    "        threshold = i/1000\n",
    "        test_thresholded, sensitivity_test, specificity_test, auc_test, accuracy_test = testAbsenceThreshold(inPrediction, threshold, inTest)\n",
    "        sensitivity_list.append(sensitivity_test)\n",
    "        specificity_list.append(specificity_test)\n",
    "        i = i + 1\n",
    "    # Calculate a list of absolute value difference between sensitivity and specificity and find the optimal threshold\n",
    "    difference_list = [np.absolute(a - b) for a, b in zip(sensitivity_list, specificity_list)]\n",
    "    value, threshold = min((value, threshold) for (threshold, value) in enumerate(difference_list) if value >= 0)\n",
    "    threshold = threshold/1000\n",
    "    # Calculate the prediction index to a binary 0 or 1 output using the optimal threshold\n",
    "    test_thresholded, sensitivity_test, specificity_test, auc_test, accuracy_test = testAbsenceThreshold(inPrediction, threshold, inTest)\n",
    "    return threshold, sensitivity_test, specificity_test, auc_test, accuracy_test"
   ]
  },
  {
   "cell_type": "code",
   "execution_count": null,
   "metadata": {},
   "outputs": [],
   "source": [
    "# Create a function to train a classifier on the train X and y and predict the test X\n",
    "def trainPredictClassifier(inData, all_variables, predictors, strataResponse, coverLogIntResponse, coverResponse):\n",
    "    # Create train and test splits\n",
    "    all_train, all_test = partitionData(inData, all_variables, predictors, coverResponse, coverLogIntResponse)\n",
    "    \n",
    "    # Determine means of strata in the cover value\n",
    "    strata_1 = all_train[all_train[strata[0]] == 1]\n",
    "    strata_2 = all_train[all_train[strata[0]] == 2]\n",
    "    strata_3 = all_train[all_train[strata[0]] == 3]\n",
    "    mean_strata_1 = np.mean(strata_1[cover[0]])\n",
    "    mean_strata_2 = np.mean(strata_2[cover[0]])\n",
    "    mean_strata_3 = np.mean(strata_3[cover[0]])\n",
    "    \n",
    "    # Define X and y\n",
    "    X_train = all_train[predictors]\n",
    "    y_train = all_train[strataResponse[0]]\n",
    "    X_test = all_test[predictors]\n",
    "    # Fit a coverLogInt classifier to the train X and y\n",
    "    rfsClassifier = RandomForestClassifier(n_estimators = 1000, criterion = 'entropy', max_features = 'log2', bootstrap = True, oob_score = False, n_jobs = 1, class_weight = 'balanced')\n",
    "    rfsClassifier.fit(X_train, y_train)\n",
    "    # Use the absence classifier to predict class probabilities\n",
    "    strata_prediction = rfsClassifier.predict_proba(X_test)\n",
    "    # Concatenate predicted values to test data frame\n",
    "    all_test = pd.concat([all_test, pd.DataFrame(strata_prediction)], axis=1)\n",
    "    all_test = all_test.rename(index=int, columns={0: 'absence'})\n",
    "    all_test = all_test.rename(index=int, columns={1: 'rfs_1'})\n",
    "    all_test = all_test.rename(index=int, columns={2: 'rfs_2'})\n",
    "    all_test = all_test.rename(index=int, columns={3: 'rfs_3'})\n",
    "    # Calculate strata regression value\n",
    "    input_data[coverLog] = input_data[cover].apply(calculateLog2, axis=0)\n",
    "    print('RFS trained...')\n",
    "    \n",
    "    # Define X and y\n",
    "    #X_train = presence_train[predictors]\n",
    "    #y_train = presence_train[coverLogIntResponse[0]]\n",
    "    #X_test = all_test[predictors]\n",
    "    # Fit a coverLogInt classifier to the train X and y\n",
    "    #rfliClassifier = RandomForestClassifier(n_estimators = 1000, criterion = 'entropy', max_features = 'log2', bootstrap = True, oob_score = False, n_jobs = 1, class_weight = 'balanced')\n",
    "    #rfliClassifier.fit(X_train, y_train)\n",
    "    # Use the absence classifier to predict class probabilities\n",
    "    #logInt_prediction = rfliClassifier.predict_proba(X_test)\n",
    "    # Concatenate predicted values to test data frame\n",
    "    #all_test = pd.concat([all_test, pd.DataFrame(logInt_prediction)], axis=1)\n",
    "    #all_test = all_test.rename(index=int, columns={0: 'rf_li_1'})\n",
    "    #all_test = all_test.rename(index=int, columns={1: 'rf_li_2'})\n",
    "    #all_test = all_test.rename(index=int, columns={2: 'rf_li_3'})\n",
    "    #all_test = all_test.rename(index=int, columns={3: 'rf_li_4'})\n",
    "    #all_test = all_test.rename(index=int, columns={4: 'rf_li_5'})\n",
    "    #all_test = all_test.rename(index=int, columns={5: 'rf_li_6'})\n",
    "    #print('RFLI trained...')\n",
    "    \n",
    "    # Subset the data to presences\n",
    "    presence_train = all_train[all_train[coverResponse[0]] >= 1]\n",
    "    \n",
    "    # Define subset X and y for the train partition\n",
    "    X_train = presence_train[predictors]\n",
    "    y_train = presence_train[coverResponse[0]]\n",
    "    X_test = all_test[predictors]\n",
    "    # Fit an abundance classifier to the train X and y\n",
    "    rfcClassifier = RandomForestRegressor(n_estimators=1000, criterion='mse', bootstrap=True, oob_score=False, n_jobs=1)\n",
    "    rfcClassifier.fit(X_train, y_train)\n",
    "    # Use the abundance classifier to predict class probabilities\n",
    "    abundance_prediction = rfcClassifier.predict(X_test)\n",
    "    # Concatenate predicted values to test data frame\n",
    "    all_test = pd.concat([all_test, pd.DataFrame(abundance_prediction)], axis=1)\n",
    "    all_test = all_test.rename(index=int, columns={0: 'rf_cover'})\n",
    "    print('RF Cover trained...')\n",
    "    \n",
    "    return all_test"
   ]
  },
  {
   "cell_type": "code",
   "execution_count": null,
   "metadata": {},
   "outputs": [],
   "source": [
    "# Determine probability fields by listing the unique classes in coverLogInt\n",
    "probability_fields = ['0']\n",
    "# Define absence field\n",
    "absence_field = ['absence']\n",
    "# Create output variable list\n",
    "output_variables = all_variables + absence_field + probability_fields\n",
    "# Create an empty data frame to store test results\n",
    "results = pd.DataFrame(columns=output_variables)"
   ]
  },
  {
   "cell_type": "code",
   "execution_count": null,
   "metadata": {},
   "outputs": [],
   "source": [
    "results"
   ]
  },
  {
   "cell_type": "code",
   "execution_count": null,
   "metadata": {},
   "outputs": [],
   "source": [
    "test_1 = trainPredictClassifier(input_data, all_variables, predictor_metrics, strata, coverLogInt, cover)"
   ]
  },
  {
   "cell_type": "code",
   "execution_count": null,
   "metadata": {},
   "outputs": [],
   "source": [
    "test_prediction = test_1['absence'].values"
   ]
  },
  {
   "cell_type": "code",
   "execution_count": null,
   "metadata": {},
   "outputs": [],
   "source": [
    "threshold, sensitivity_test, specificity_test, auc_test, accuracy_test = determineOptimalThreshold(test_prediction, test_1['zero'])"
   ]
  },
  {
   "cell_type": "code",
   "execution_count": null,
   "metadata": {},
   "outputs": [],
   "source": [
    "print(threshold)\n",
    "print(auc_test)\n",
    "print(accuracy_test)\n",
    "print(sensitivity_test)\n",
    "print(specificity_test)"
   ]
  },
  {
   "cell_type": "code",
   "execution_count": null,
   "metadata": {},
   "outputs": [],
   "source": [
    "output_file = 'K:/VegetationEcology/Data_Harmonization/Project_GIS/Data_Output/testRegression/predicted.csv'\n",
    "test_1.to_csv(output_file, header=True, index=False, sep=',', encoding='utf-8')"
   ]
  },
  {
   "cell_type": "code",
   "execution_count": null,
   "metadata": {},
   "outputs": [],
   "source": []
  },
  {
   "cell_type": "code",
   "execution_count": null,
   "metadata": {},
   "outputs": [],
   "source": []
  },
  {
   "cell_type": "code",
   "execution_count": null,
   "metadata": {},
   "outputs": [],
   "source": [
    "# Run 100 model train-predict iterations\n",
    "i = 1\n",
    "while i < 11:\n",
    "    test_data = trainPredictClassifier(input_data, all_variables, predictor_metrics, strata, coverLogInt, cover)\n",
    "    results = results.append(test_data, ignore_index = True, sort = True)\n",
    "    print('Model iteration ' + str(i) + ' out of 100 trained and tested...')\n",
    "    i = i+1"
   ]
  },
  {
   "cell_type": "code",
   "execution_count": null,
   "metadata": {},
   "outputs": [],
   "source": []
  },
  {
   "cell_type": "code",
   "execution_count": null,
   "metadata": {},
   "outputs": [],
   "source": []
  },
  {
   "cell_type": "code",
   "execution_count": null,
   "metadata": {},
   "outputs": [],
   "source": []
  },
  {
   "cell_type": "code",
   "execution_count": null,
   "metadata": {},
   "outputs": [],
   "source": []
  },
  {
   "cell_type": "code",
   "execution_count": null,
   "metadata": {},
   "outputs": [],
   "source": []
  },
  {
   "cell_type": "code",
   "execution_count": null,
   "metadata": {},
   "outputs": [],
   "source": []
  },
  {
   "cell_type": "code",
   "execution_count": null,
   "metadata": {},
   "outputs": [],
   "source": [
    "presence_data = input_data[input_data[cover[0]] >= 1]\n",
    "\n",
    "X = presence_data[predictor_metrics]\n",
    "y = presence_data[cover[0]]\n",
    "strata = presence_data[coverLogInt[0]]\n",
    "\n",
    "scaler = StandardScaler()\n",
    "scaler.fit(X)\n",
    "X = scaler.transform(X)\n",
    "\n",
    "c_range = np.logspace(-2, 10, 13)\n",
    "gamma_range = np.logspace(-9, 3, 13)\n",
    "param_grid = dict(gamma=gamma_range, C=c_range)\n",
    "cv = ShuffleSplit(n_splits=5, test_size=0.2, random_state=42)\n",
    "grid = GridSearchCV(SVR(), param_grid=param_grid, cv=cv)\n",
    "grid.fit(X, y)\n",
    "    \n",
    "print(\"The best parameters are %s with a score of %0.2f\"\n",
    "      % (grid.best_params_, grid.best_score_))"
   ]
  },
  {
   "cell_type": "code",
   "execution_count": null,
   "metadata": {},
   "outputs": [],
   "source": [
    "# Define a function to fit a regressor using training data and determine performance using the test data\n",
    "def trainTestRegressor(X_train, y_train, X_test, y_test, testData, variable):\n",
    "    # Fit a regressor to the training dataset\n",
    "    regressor = RandomForestRegressor(n_estimators=100, criterion='mse', bootstrap=True, oob_score=False, n_jobs=16)\n",
    "    regressor.fit(X_train, y_train)\n",
    "    # Use the regressor to predict values for the test dataset\n",
    "    test_prediction = regressor.predict(X_test)\n",
    "    # Calculate the r^2\n",
    "    r_score = r2_score(y_test, test_prediction, sample_weight=None, multioutput='uniform_average')\n",
    "    # Calculate error\n",
    "    mae = mean_absolute_error(y_test, test_prediction)\n",
    "    mse = mean_squared_error(y_test, test_prediction)\n",
    "    rmse = np.sqrt(mse)\n",
    "    # Concatenate predicted values to test data frame\n",
    "    testData = pd.concat([testData, pd.DataFrame(test_prediction)], axis=1)\n",
    "    testData = testData.rename(index=int, columns={0: variable})\n",
    "    return [r_score, mae, mse, rmse, testData]\n",
    "\n",
    "print('Function \"trainTestRegressor\" loaded.')"
   ]
  },
  {
   "cell_type": "code",
   "execution_count": null,
   "metadata": {},
   "outputs": [],
   "source": [
    "# Import raw train and test data\n",
    "train_data_raw = pd.read_csv(train_file_raw)\n",
    "test_data_raw = pd.read_csv(test_file_raw)\n",
    "# Convert numerical data to float\n",
    "train_data_raw[predictor_metrics + cover + coverLog + coordinates] = train_data_raw[predictor_metrics + cover + coverLog + coordinates].astype(float)\n",
    "test_data_raw[predictor_metrics + cover + coverLog + coordinates] = test_data_raw[predictor_metrics + cover + coverLog + coordinates].astype(float)\n",
    "# Convert class data to integer\n",
    "train_data_raw[zero_variable + strata] = train_data_raw[zero_variable + strata].astype(int)\n",
    "test_data_raw[zero_variable + strata] = test_data_raw[zero_variable + strata].astype(int)"
   ]
  },
  {
   "cell_type": "code",
   "execution_count": null,
   "metadata": {},
   "outputs": [],
   "source": [
    "# Import scaled train and test data\n",
    "train_data_scaled = pd.read_csv(train_file_scaled)\n",
    "test_data_scaled = pd.read_csv(test_file_scaled)\n",
    "# Convert numerical data to float\n",
    "train_data_scaled[predictor_metrics + cover + coverLog + coordinates] = train_data_scaled[predictor_metrics + cover + coverLog + coordinates].astype(float)\n",
    "test_data_scaled[predictor_metrics + cover + coverLog + coordinates] = test_data_scaled[predictor_metrics + cover + coverLog + coordinates].astype(float)\n",
    "# Convert class data to integer\n",
    "train_data_scaled[zero_variable + strata] = train_data_scaled[zero_variable + strata].astype(int)\n",
    "test_data_scaled[zero_variable + strata] = test_data_scaled[zero_variable + strata].astype(int)"
   ]
  },
  {
   "cell_type": "code",
   "execution_count": null,
   "metadata": {},
   "outputs": [],
   "source": [
    "# Conduct Random Forest Regression for the raw data with cover\n",
    "X_train = train_data_raw[predictor_metrics]\n",
    "y_train = train_data_raw[cover[0]]\n",
    "X_test = test_data_raw[predictor_metrics]\n",
    "y_test = test_data_raw[cover[0]]\n",
    "r_score_1, mae_1, mse_1, rmse_1, test_data_raw = trainTestRegressor(X_train, y_train, X_test, y_test, test_data_raw, 'predictCover')\n",
    "\n",
    "# Conduct Random Forest Regression for the raw data with coverLog\n",
    "X_train = train_data_raw[predictor_metrics]\n",
    "y_train = train_data_raw[coverLog[0]]\n",
    "X_test = test_data_raw[predictor_metrics]\n",
    "y_test = test_data_raw[coverLog[0]]\n",
    "r_score_2, mae_2, mse_2, rmse_2, test_data_raw = trainTestRegressor(X_train, y_train, X_test, y_test, test_data_raw, 'predictCoverLog')\n",
    "\n",
    "# Export the prediction of the raw data\n",
    "python_raw = 'E:/VegetationEcology/Data_Harmonization/Project_GIS/Data_Output/testRegression/python_raw.csv'\n",
    "test_data_raw.to_csv(python_raw, header=True, index=False, sep=',', encoding='utf-8')"
   ]
  },
  {
   "cell_type": "code",
   "execution_count": null,
   "metadata": {},
   "outputs": [],
   "source": [
    "print(r_score_1)\n",
    "print(rmse_1)\n",
    "print(mae_1)"
   ]
  },
  {
   "cell_type": "code",
   "execution_count": null,
   "metadata": {},
   "outputs": [],
   "source": [
    "print(r_score_2)\n",
    "print(rmse_2)\n",
    "print(mae_2)"
   ]
  },
  {
   "cell_type": "code",
   "execution_count": null,
   "metadata": {},
   "outputs": [],
   "source": [
    "# Conduct Random Forest Regression for the scaled data with cover\n",
    "X_train = train_data_scaled[predictor_metrics]\n",
    "y_train = train_data_scaled[cover[0]]\n",
    "X_test = test_data_scaled[predictor_metrics]\n",
    "y_test = test_data_scaled[cover[0]]\n",
    "r_score_3, mae_3, mse_3, rmse_3, test_data_scaled = trainTestRegressor(X_train, y_train, X_test, y_test, test_data_scaled, 'predictCover')\n",
    "\n",
    "# Conduct Random Forest Regression for the scaled data with coverLog\n",
    "X_train = train_data_scaled[predictor_metrics]\n",
    "y_train = train_data_scaled[coverLog[0]]\n",
    "X_test = test_data_scaled[predictor_metrics]\n",
    "y_test = test_data_scaled[coverLog[0]]\n",
    "r_score_4, mae_4, mse_4, rmse_4, test_data_scaled = trainTestRegressor(X_train, y_train, X_test, y_test, test_data_scaled, 'predictCoverLog')\n",
    "\n",
    "# Export the prediction of the scaled data\n",
    "python_scaled = 'E:/VegetationEcology/Data_Harmonization/Project_GIS/Data_Output/testRegression/python_scaled.csv'\n",
    "test_data_scaled.to_csv(python_scaled, header=True, index=False, sep=',', encoding='utf-8')"
   ]
  },
  {
   "cell_type": "code",
   "execution_count": null,
   "metadata": {},
   "outputs": [],
   "source": [
    "print(r_score_3)\n",
    "print(rmse_3)\n",
    "print(mae_3)"
   ]
  },
  {
   "cell_type": "code",
   "execution_count": null,
   "metadata": {},
   "outputs": [],
   "source": [
    "print(r_score_4)\n",
    "print(rmse_4)\n",
    "print(mae_4)"
   ]
  },
  {
   "cell_type": "code",
   "execution_count": null,
   "metadata": {},
   "outputs": [],
   "source": []
  }
 ],
 "metadata": {
  "kernelspec": {
   "display_name": "Python 3",
   "language": "python",
   "name": "python3"
  },
  "language_info": {
   "codemirror_mode": {
    "name": "ipython",
    "version": 3
   },
   "file_extension": ".py",
   "mimetype": "text/x-python",
   "name": "python",
   "nbconvert_exporter": "python",
   "pygments_lexer": "ipython3",
   "version": "3.6.5"
  }
 },
 "nbformat": 4,
 "nbformat_minor": 2
}
