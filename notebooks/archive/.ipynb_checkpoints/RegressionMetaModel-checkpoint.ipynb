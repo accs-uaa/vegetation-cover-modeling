{
 "cells": [
  {
   "cell_type": "code",
   "execution_count": 29,
   "metadata": {},
   "outputs": [
    {
     "name": "stdout",
     "output_type": "stream",
     "text": [
      "All modules successfully imported.\n"
     ]
    }
   ],
   "source": [
    "# Import modules\n",
    "import os\n",
    "import numpy as np\n",
    "import pandas as pd\n",
    "import seaborn as sns\n",
    "import matplotlib.pyplot as plot\n",
    "from sklearn.model_selection import train_test_split\n",
    "from sklearn.ensemble import RandomForestClassifier\n",
    "from sklearn.ensemble import RandomForestRegressor\n",
    "from sklearn.linear_model import LogisticRegression\n",
    "from sklearn.preprocessing import PolynomialFeatures\n",
    "from sklearn.svm import SVC\n",
    "from sklearn.metrics import accuracy_score\n",
    "from sklearn.metrics import confusion_matrix\n",
    "from sklearn.metrics import roc_curve\n",
    "from sklearn.metrics import auc\n",
    "from sklearn.metrics import roc_auc_score\n",
    "from sklearn.metrics import mean_squared_error\n",
    "from sklearn.metrics import mean_absolute_error\n",
    "from sklearn.externals import joblib\n",
    "from sklearn.metrics import r2_score\n",
    "from sklearn.preprocessing import StandardScaler\n",
    "from imblearn.over_sampling import RandomOverSampler, SMOTE, ADASYN\n",
    "from sklearn.svm import SVR\n",
    "from collections import Counter\n",
    "print('All modules successfully imported.')"
   ]
  },
  {
   "cell_type": "code",
   "execution_count": 30,
   "metadata": {},
   "outputs": [
    {
     "name": "stdout",
     "output_type": "stream",
     "text": [
      "Variable sets loaded.\n"
     ]
    }
   ],
   "source": [
    "# Define variable sets\n",
    "predictor_all = ['compoundTopographic', 'dateFreeze_2000s', 'dateThaw_2000s', 'elevation', 'floodplainsDist', 'growingSeason_2000s', 'heatLoad', 'integratedMoisture', 'precipAnnual_2000s', 'roughness', 'siteExposure', 'slope', 'streamLargeDist', 'streamSmallDist', 'summerWarmth_2000s', 'surfaceArea', 'surfaceRelief', 'aspect', 'may_1_ultraBlue', 'may_2_blue', 'may_3_green', 'may_4_red', 'may_5_nearInfrared', 'may_6_shortInfrared1', 'may_7_shortInfrared2', 'may_evi2', 'may_nbr', 'may_ndmi', 'may_ndsi', 'may_ndvi', 'may_ndwi', 'june_1_ultraBlue', 'june_2_blue', 'june_3_green', 'june_4_red', 'june_5_nearInfrared', 'june_6_shortInfrared1', 'june_7_shortInfrared2', 'june_evi2', 'june_nbr', 'june_ndmi', 'june_ndsi', 'june_ndvi', 'june_ndwi', 'july_1_ultraBlue', 'july_2_blue', 'july_3_green', 'july_4_red', 'july_5_nearInfrared', 'july_6_shortInfrared1', 'july_7_shortInfrared2', 'july_evi2', 'july_nbr', 'july_ndmi', 'july_ndsi', 'july_ndvi', 'july_ndwi', 'august_1_ultraBlue', 'august_2_blue', 'august_3_green', 'august_4_red', 'august_5_nearInfrared', 'august_6_shortInfrared1', 'august_7_shortInfrared2', 'august_evi2', 'august_nbr', 'august_ndmi', 'august_ndsi', 'august_ndvi', 'august_ndwi', 'september_1_ultraBlue', 'september_2_blue', 'september_3_green', 'september_4_red', 'september_5_nearInfrared', 'september_6_shortInfrared1', 'september_7_shortInfrared2', 'september_evi2', 'september_nbr', 'september_ndmi', 'september_ndsi', 'september_ndvi', 'september_ndwi']\n",
    "predictor_metrics = ['compoundTopographic', 'dateFreeze_2000s', 'dateThaw_2000s', 'elevation', 'floodplainsDist', 'growingSeason_2000s', 'heatLoad', 'integratedMoisture', 'precipAnnual_2000s', 'roughness', 'siteExposure', 'slope', 'streamLargeDist', 'streamSmallDist', 'summerWarmth_2000s', 'surfaceArea', 'surfaceRelief', 'aspect', 'may_2_blue', 'may_evi2', 'may_nbr', 'may_ndmi', 'may_ndsi', 'may_ndvi', 'may_ndwi', 'june_2_blue', 'june_evi2', 'june_nbr', 'june_ndmi', 'june_ndsi', 'june_ndvi', 'june_ndwi', 'july_2_blue', 'july_evi2', 'july_nbr', 'july_ndmi', 'july_ndsi', 'july_ndvi', 'july_ndwi', 'august_2_blue', 'august_evi2', 'august_nbr', 'august_ndmi', 'august_ndsi', 'august_ndvi', 'august_ndwi', 'september_2_blue', 'september_evi2', 'september_nbr', 'september_ndmi', 'september_ndsi', 'september_ndvi', 'september_ndwi']\n",
    "predictor_midsummer = ['compoundTopographic', 'dateFreeze_2000s', 'dateThaw_2000s', 'elevation', 'floodplainsDist', 'growingSeason_2000s', 'heatLoad', 'integratedMoisture', 'precipAnnual_2000s', 'roughness', 'siteExposure', 'slope', 'streamLargeDist', 'streamSmallDist', 'summerWarmth_2000s', 'surfaceArea', 'surfaceRelief', 'aspect', 'july_1_ultraBlue', 'july_2_blue', 'july_3_green', 'july_4_red', 'july_5_nearInfrared', 'july_6_shortInfrared1', 'july_7_shortInfrared2', 'july_evi2', 'july_nbr', 'july_ndmi', 'july_ndsi', 'july_ndvi', 'july_ndwi', 'strata']\n",
    "predictor_raw = ['compoundTopographic', 'dateFreeze_2000s', 'dateThaw_2000s', 'elevation', 'floodplainsDist', 'growingSeason_2000s', 'heatLoad', 'integratedMoisture', 'precipAnnual_2000s', 'roughness', 'siteExposure', 'slope', 'streamLargeDist', 'streamSmallDist', 'summerWarmth_2000s', 'surfaceArea', 'surfaceRelief', 'aspect', 'may_1_ultraBlue', 'may_2_blue', 'may_3_green', 'may_4_red', 'may_5_nearInfrared', 'may_6_shortInfrared1', 'may_7_shortInfrared2', 'june_1_ultraBlue', 'june_2_blue', 'june_3_green', 'june_4_red', 'june_5_nearInfrared', 'june_6_shortInfrared1', 'june_7_shortInfrared2', 'july_1_ultraBlue', 'july_2_blue', 'july_3_green', 'july_4_red', 'july_5_nearInfrared', 'july_6_shortInfrared1', 'july_7_shortInfrared2', 'august_1_ultraBlue', 'august_2_blue', 'august_3_green', 'august_4_red', 'august_5_nearInfrared', 'august_6_shortInfrared1', 'august_7_shortInfrared2', 'september_1_ultraBlue', 'september_2_blue', 'september_3_green', 'september_4_red', 'september_5_nearInfrared', 'september_6_shortInfrared1', 'september_7_shortInfrared2']\n",
    "zero_variable = ['zero']\n",
    "strata = ['strata']\n",
    "cover = ['cover']\n",
    "coverLog = ['coverLog']\n",
    "coverLogInt = ['coverLogInt']\n",
    "retain_variables = ['project', 'siteID', 'siteCode', 'methodSurvey', 'methodCover']\n",
    "coordinates = ['POINT_X', 'POINT_Y']\n",
    "all_variables = retain_variables + coordinates + predictor_metrics + zero_variable + strata + cover + coverLog + coverLogInt\n",
    "print('Variable sets loaded.')"
   ]
  },
  {
   "cell_type": "code",
   "execution_count": 31,
   "metadata": {},
   "outputs": [],
   "source": [
    "# Define input file\n",
    "input_file = 'E:/VegetationEcology/Data_Harmonization/Project_GIS/Data_Output/speciesData/betula_nana.csv'\n",
    "# Create data frame of input data\n",
    "input_data = pd.read_csv(input_file)\n",
    "input_data.reset_index()\n",
    "# Convert values to floats\n",
    "input_data[predictor_all + cover + coordinates] = input_data[predictor_all + cover + coordinates].astype(float)\n",
    "# Convert values to integers\n",
    "input_data[strata + zero_variable] = input_data[strata + zero_variable].astype(int)"
   ]
  },
  {
   "cell_type": "code",
   "execution_count": 32,
   "metadata": {},
   "outputs": [],
   "source": [
    "# Define a function to calculate Log2(Cover+1)\n",
    "def calculateLog2(n):\n",
    "    out_log = np.log2(n+1)\n",
    "    return out_log"
   ]
  },
  {
   "cell_type": "code",
   "execution_count": 33,
   "metadata": {},
   "outputs": [],
   "source": [
    "# Define a function to calculate Log2(Cover+1) rounded to the nearest integer\n",
    "def calculateLog2Int(n):\n",
    "    out_log = np.round(np.log2(n+1), 0).astype(int)\n",
    "    return out_log"
   ]
  },
  {
   "cell_type": "code",
   "execution_count": 34,
   "metadata": {},
   "outputs": [],
   "source": [
    "# Add a column of LOG2(Cover+1)\n",
    "input_data[coverLog] = input_data[cover].apply(calculateLog2, axis=0)\n",
    "# Add a column of LOG2(Cover+1) rounded to the nearest integer\n",
    "input_data[coverLogInt] = input_data[cover].apply(calculateLog2Int, axis=0)"
   ]
  },
  {
   "cell_type": "code",
   "execution_count": 35,
   "metadata": {},
   "outputs": [],
   "source": [
    "# Create a function to merge data into another sample class\n",
    "def mergeClass(inData, location, column, inValue):\n",
    "    count = inData.loc[location == inValue, column].count()[0]\n",
    "    if count < 20:\n",
    "        inData.loc[location == inValue, column] = inValue - 1\n",
    "    return inData"
   ]
  },
  {
   "cell_type": "code",
   "execution_count": 36,
   "metadata": {},
   "outputs": [],
   "source": [
    "# Create a function to create and scale the train and test partitions\n",
    "def partitionData(inData, all_variables, predictors, response, strata):\n",
    "    # Create train and test splits\n",
    "    X = inData[all_variables]\n",
    "    y = inData[response[0]]\n",
    "    stratify = inData[strata[0]]\n",
    "    all_train, all_test, y_train, y_test = train_test_split(X, y, test_size = 0.3, train_size = 0.7, random_state = None, shuffle = True, stratify = stratify)\n",
    "    # Reset the index on the train and test splits\n",
    "    all_train = all_train.reset_index()\n",
    "    all_test = all_test.reset_index()\n",
    "    # Create a standard scaler to scale all covariates to Gaussian distribution\n",
    "    scaler = StandardScaler()\n",
    "    scaler.fit(all_train[predictors])\n",
    "    # Scale the train X data\n",
    "    train_scaled = scaler.transform(all_train[predictor_metrics])\n",
    "    all_train = all_train.drop(columns=predictor_metrics)\n",
    "    all_train = pd.concat([all_train, pd.DataFrame(data=train_scaled, columns=predictor_metrics)], axis=1)\n",
    "    # Scale the test X data\n",
    "    test_scaled = scaler.transform(all_test[predictor_metrics])\n",
    "    all_test = all_test.drop(columns=predictor_metrics)\n",
    "    all_test = pd.concat([all_test, pd.DataFrame(data=test_scaled, columns=predictor_metrics)], axis=1)\n",
    "    return all_train, all_test"
   ]
  },
  {
   "cell_type": "code",
   "execution_count": 37,
   "metadata": {},
   "outputs": [
    {
     "name": "stdout",
     "output_type": "stream",
     "text": [
      "Function \"thresholdMetrics\" loaded.\n"
     ]
    }
   ],
   "source": [
    "# Define a function to calculate performance metrics based on a specified threshold value\n",
    "def testAbsenceThreshold(absenceProbability, threshold, presenceData):\n",
    "    outThresholded = np.zeros(absenceProbability.shape)\n",
    "    outThresholded[outThresholded == 0] = 1\n",
    "    outThresholded[absenceProbability > threshold] = 0\n",
    "    confusion_test = confusion_matrix(presenceData, outThresholded)\n",
    "    true_negative = confusion_test[0,0]\n",
    "    false_negative = confusion_test[1,0]\n",
    "    true_positive = confusion_test[1,1]\n",
    "    false_positive = confusion_test[0,1]\n",
    "    outSensitivity = true_positive / (true_positive + false_negative)\n",
    "    outSpecificity = true_negative / (true_negative + false_positive)\n",
    "    outAUC = roc_auc_score(presenceData, 1-absenceProbability)\n",
    "    outAccuracy = (true_negative + true_positive) / (true_negative + false_positive + false_negative + true_positive)\n",
    "    return (outThresholded, outSensitivity, outSpecificity, outAUC, outAccuracy)\n",
    "\n",
    "print('Function \"thresholdMetrics\" loaded.')"
   ]
  },
  {
   "cell_type": "code",
   "execution_count": 38,
   "metadata": {},
   "outputs": [],
   "source": [
    "# Create a function to determine an absence threshold\n",
    "def determineOptimalThreshold(inPrediction, inTest):\n",
    "    # Iterate through numbers between 0 and 1000 to output a list of sensitivity and specificity values per threshold number\n",
    "    i = 1\n",
    "    sensitivity_list = []\n",
    "    specificity_list = []\n",
    "    while i < 1001:\n",
    "        threshold = i/1000\n",
    "        test_thresholded, sensitivity_test, specificity_test, auc_test, accuracy_test = testAbsenceThreshold(inPrediction, threshold, inTest)\n",
    "        sensitivity_list.append(sensitivity_test)\n",
    "        specificity_list.append(specificity_test)\n",
    "        i = i + 1\n",
    "    # Calculate a list of absolute value difference between sensitivity and specificity and find the optimal threshold\n",
    "    difference_list = [np.absolute(a - b) for a, b in zip(sensitivity_list, specificity_list)]\n",
    "    value, threshold = min((value, threshold) for (threshold, value) in enumerate(difference_list) if value >= 0)\n",
    "    threshold = threshold/1000\n",
    "    # Calculate the prediction index to a binary 0 or 1 output using the optimal threshold\n",
    "    test_thresholded, sensitivity_test, specificity_test, auc_test, accuracy_test = testAbsenceThreshold(inPrediction, threshold, inTest)\n",
    "    return threshold, sensitivity_test, specificity_test, auc_test, accuracy_test"
   ]
  },
  {
   "cell_type": "code",
   "execution_count": 39,
   "metadata": {},
   "outputs": [],
   "source": [
    "# Create a function to train a classifier on the train X and y and predict the test X\n",
    "def trainPredictClassifier(inData, all_variables, predictors, absenceResponse, coverLogIntResponse, coverResponse, coverLogResponse, strata):\n",
    "    # Create train and test splits\n",
    "    all_train, all_test = partitionData(inData, all_variables, predictors, coverResponse, strata)\n",
    "    # Define X and y\n",
    "    X_train = all_train[predictors]\n",
    "    y_train = all_train[absenceResponse[0]]\n",
    "    X_test = all_test[predictors]\n",
    "    # Fit an absence classifier to the train X and y\n",
    "    absenceClassifier = RandomForestClassifier(n_estimators = 1000, criterion = 'entropy', max_features = 'log2', bootstrap = True, oob_score = False, n_jobs = 1, class_weight = 'balanced')\n",
    "    absenceClassifier.fit(X_train, y_train)\n",
    "    # Use the absence classifier to predict class probabilities\n",
    "    absence_prediction = absenceClassifier.predict_proba(X_test)\n",
    "    # Concatenate predicted values to test data frame\n",
    "    all_test = pd.concat([all_test, pd.DataFrame(absence_prediction)], axis=1)\n",
    "    all_test = all_test.rename(index=int, columns={0: 'rf_absence'})\n",
    "    all_test = all_test.rename(index=int, columns={1: 'rf_s_1'})\n",
    "    all_test = all_test.rename(index=int, columns={2: 'rf_s_2'})\n",
    "    all_test = all_test.rename(index=int, columns={3: 'rf_s_3'})\n",
    "    print('RFS trained...')\n",
    "    \n",
    "    # Fit an absence classifier to the train X and y\n",
    "    SVS_Classifier = SVC(kernel='rbf', C=1/10, probability=True, class_weight='balanced')\n",
    "    SVS_Classifier.fit(X_train, y_train)\n",
    "    # Use the classifier to predict class probabilities\n",
    "    SVS_prediction = SVS_Classifier.predict_proba(X_test)\n",
    "    # Concatenate predicted values to test data frame\n",
    "    all_test = pd.concat([all_test, pd.DataFrame(SVS_prediction)], axis=1)\n",
    "    all_test = all_test.rename(index=int, columns={0: 'svs_absence'})\n",
    "    all_test = all_test.rename(index=int, columns={1: 'svs_1'})\n",
    "    all_test = all_test.rename(index=int, columns={2: 'svs_2'})\n",
    "    all_test = all_test.rename(index=int, columns={3: 'svs_3'})\n",
    "    print('SVS trained...')\n",
    "    \n",
    "    # Transform x data into polynomial features\n",
    "    #poly = PolynomialFeatures(3)\n",
    "    #X_train_poly = poly.fit_transform(X_train)\n",
    "    #X_test_poly = poly.fit_transform(X_test)\n",
    "    # Fit an absence classifier to the train X and y\n",
    "    #LGS_Classifier = LogisticRegression(C=1/10, class_weight='balanced', solver='liblinear', multi_class='ovr')\n",
    "    #LGS_Classifier.fit(X_train_poly, y_train)\n",
    "    # Use the classifier to predict class probabilities\n",
    "    #LGS_prediction = LGS_Classifier.predict_proba(X_test_poly)\n",
    "    # Concatenate predicted values to test data frame\n",
    "    #all_test = pd.concat([all_test, pd.DataFrame(LGS_prediction)], axis=1)\n",
    "    #all_test = all_test.rename(index=int, columns={0: 'lgs_absence'})\n",
    "    #all_test = all_test.rename(index=int, columns={1: 'lgs_1'})\n",
    "    #all_test = all_test.rename(index=int, columns={2: 'lgs_2'})\n",
    "    #all_test = all_test.rename(index=int, columns={3: 'lgs_3'})\n",
    "    \n",
    "    # Define X and y\n",
    "    X_train = all_train[predictors]\n",
    "    y_train = all_train[coverLogIntResponse[0]]\n",
    "    X_test = all_test[predictors]\n",
    "    # Fit a coverLogInt classifier to the train X and y\n",
    "    logIntClassifier = RandomForestClassifier(n_estimators = 1000, criterion = 'entropy', max_features = 'log2', bootstrap = True, oob_score = False, n_jobs = 1, class_weight = 'balanced')\n",
    "    logIntClassifier.fit(X_train, y_train)\n",
    "    # Use the absence classifier to predict class probabilities\n",
    "    logInt_prediction = logIntClassifier.predict_proba(X_test)\n",
    "    # Concatenate predicted values to test data frame\n",
    "    all_test = pd.concat([all_test, pd.DataFrame(logInt_prediction)], axis=1)\n",
    "    all_test = all_test.rename(index=int, columns={0: 'rf_li_0'})\n",
    "    all_test = all_test.rename(index=int, columns={1: 'rf_li_1'})\n",
    "    all_test = all_test.rename(index=int, columns={2: 'rf_li_2'})\n",
    "    all_test = all_test.rename(index=int, columns={3: 'rf_li_3'})\n",
    "    all_test = all_test.rename(index=int, columns={4: 'rf_li_4'})\n",
    "    all_test = all_test.rename(index=int, columns={5: 'rf_li_5'})\n",
    "    all_test = all_test.rename(index=int, columns={6: 'rf_li_6'})\n",
    "    print('RFLI trained...')\n",
    "    \n",
    "    # Fit an absence classifier to the train X and y\n",
    "    SVLI_Classifier = SVC(kernel='rbf', C=1/10, probability=True, class_weight='balanced')\n",
    "    SVLI_Classifier.fit(X_train, y_train)\n",
    "    # Use the classifier to predict class probabilities\n",
    "    SVLI_prediction = SVLI_Classifier.predict_proba(X_test)\n",
    "    # Concatenate predicted values to test data frame\n",
    "    all_test = pd.concat([all_test, pd.DataFrame(SVLI_prediction)], axis=1)\n",
    "    all_test = all_test.rename(index=int, columns={0: 'svli_absence'})\n",
    "    all_test = all_test.rename(index=int, columns={1: 'svli_1'})\n",
    "    all_test = all_test.rename(index=int, columns={2: 'svli_2'})\n",
    "    all_test = all_test.rename(index=int, columns={3: 'svli_3'})\n",
    "    all_test = all_test.rename(index=int, columns={4: 'svli_4'})\n",
    "    all_test = all_test.rename(index=int, columns={5: 'svli_5'})\n",
    "    all_test = all_test.rename(index=int, columns={6: 'svli_6'})\n",
    "    print('SVLI trained...')\n",
    "    \n",
    "    \n",
    "    # Transform x data into polynomial features\n",
    "    #poly = PolynomialFeatures(3)\n",
    "    #X_train_poly = poly.fit_transform(X_train)\n",
    "    #X_test_poly = poly.fit_transform(X_test)\n",
    "    # Fit an absence classifier to the train X and y\n",
    "    #LGLI_Classifier = LogisticRegression(C=1/10, class_weight='balanced', solver='liblinear', multi_class='ovr')\n",
    "    #LGLI_Classifier.fit(X_train_poly, y_train)\n",
    "    # Use the classifier to predict class probabilities\n",
    "    #LGLI_prediction = LGLI_Classifier.predict_proba(X_test_poly)\n",
    "    # Concatenate predicted values to test data frame\n",
    "    #all_test = pd.concat([all_test, pd.DataFrame(LGLI_prediction)], axis=1)\n",
    "    #all_test = all_test.rename(index=int, columns={0: 'lgli_absence'})\n",
    "    #all_test = all_test.rename(index=int, columns={1: 'lgli_1'})\n",
    "    #all_test = all_test.rename(index=int, columns={2: 'lgli_2'})\n",
    "    #all_test = all_test.rename(index=int, columns={3: 'lgli_3'})\n",
    "    \n",
    "    # Subset the data to presences\n",
    "    presence_train = all_train[all_train[coverResponse[0]] >= 1]\n",
    "    # Define subset X and y for the train partition\n",
    "    X_train = presence_train[predictors]\n",
    "    y_train = presence_train[coverResponse[0]]\n",
    "    X_test = all_test[predictors]\n",
    "    # Fit an abundance classifier to the train X and y\n",
    "    abundanceClassifier = RandomForestRegressor(n_estimators=1000, criterion='mse', bootstrap=True, oob_score=False, n_jobs=1)\n",
    "    abundanceClassifier.fit(X_train, y_train)\n",
    "    # Use the abundance classifier to predict class probabilities\n",
    "    abundance_prediction = abundanceClassifier.predict(X_test)\n",
    "    # Concatenate predicted values to test data frame\n",
    "    all_test = pd.concat([all_test, pd.DataFrame(abundance_prediction)], axis=1)\n",
    "    all_test = all_test.rename(index=int, columns={0: 'rf_cover'})\n",
    "    print('RF Cover trained...')\n",
    "    \n",
    "    # Fit an abundance classifier to the train X and y\n",
    "    SVA_Classifier = SVR()\n",
    "    SVA_Classifier.fit(X_train, y_train)\n",
    "    # Use the abundance classifier to predict class probabilities\n",
    "    SVA_prediction = SVA_Classifier.predict(X_test)\n",
    "    # Concatenate predicted values to test data frame\n",
    "    all_test = pd.concat([all_test, pd.DataFrame(SVA_prediction)], axis=1)\n",
    "    all_test = all_test.rename(index=int, columns={0: 'sv_cover'})\n",
    "    print('SV cover trained...')\n",
    "    \n",
    "    # Define subset X and y for the train partition\n",
    "    X_train = presence_train[predictors]\n",
    "    y_train = presence_train[coverLogResponse[0]]\n",
    "    X_test = all_test[predictors]\n",
    "    # Fit an abundance classifier to the train X and y\n",
    "    logClassifier = RandomForestRegressor(n_estimators=1000, criterion='mse', bootstrap=True, oob_score=False, n_jobs=1)\n",
    "    logClassifier.fit(X_train, y_train)\n",
    "    # Use the abundance classifier to predict class probabilities\n",
    "    log_prediction = logClassifier.predict(X_test)\n",
    "    # Concatenate predicted values to test data frame\n",
    "    all_test = pd.concat([all_test, pd.DataFrame(log_prediction)], axis=1)\n",
    "    all_test = all_test.rename(index=int, columns={0: 'rf_log'})\n",
    "    print('RF log trained...')\n",
    "    \n",
    "    # Fit an abundance classifier to the train X and y\n",
    "    SVL_Classifier = SVR()\n",
    "    SVL_Classifier.fit(X_train, y_train)\n",
    "    # Use the abundance classifier to predict class probabilities\n",
    "    SVL_prediction = SVL_Classifier.predict(X_test)\n",
    "    # Concatenate predicted values to test data frame\n",
    "    all_test = pd.concat([all_test, pd.DataFrame(SVL_prediction)], axis=1)\n",
    "    all_test = all_test.rename(index=int, columns={0: 'sv_log'})\n",
    "    print('SV log trained...')\n",
    "    \n",
    "    return all_test"
   ]
  },
  {
   "cell_type": "code",
   "execution_count": 40,
   "metadata": {},
   "outputs": [],
   "source": [
    "# Determine probability fields by listing the unique classes in coverLogInt\n",
    "probability_fields = ['0']\n",
    "# Define absence field\n",
    "absence_field = ['absence']\n",
    "# Create output variable list\n",
    "output_variables = all_variables + absence_field + probability_fields\n",
    "# Create an empty data frame to store test results\n",
    "results = pd.DataFrame(columns=output_variables)"
   ]
  },
  {
   "cell_type": "code",
   "execution_count": 41,
   "metadata": {},
   "outputs": [
    {
     "data": {
      "text/html": [
       "<div>\n",
       "<style scoped>\n",
       "    .dataframe tbody tr th:only-of-type {\n",
       "        vertical-align: middle;\n",
       "    }\n",
       "\n",
       "    .dataframe tbody tr th {\n",
       "        vertical-align: top;\n",
       "    }\n",
       "\n",
       "    .dataframe thead th {\n",
       "        text-align: right;\n",
       "    }\n",
       "</style>\n",
       "<table border=\"1\" class=\"dataframe\">\n",
       "  <thead>\n",
       "    <tr style=\"text-align: right;\">\n",
       "      <th></th>\n",
       "      <th>project</th>\n",
       "      <th>siteID</th>\n",
       "      <th>siteCode</th>\n",
       "      <th>methodSurvey</th>\n",
       "      <th>methodCover</th>\n",
       "      <th>POINT_X</th>\n",
       "      <th>POINT_Y</th>\n",
       "      <th>compoundTopographic</th>\n",
       "      <th>dateFreeze_2000s</th>\n",
       "      <th>dateThaw_2000s</th>\n",
       "      <th>...</th>\n",
       "      <th>september_ndsi</th>\n",
       "      <th>september_ndvi</th>\n",
       "      <th>september_ndwi</th>\n",
       "      <th>zero</th>\n",
       "      <th>strata</th>\n",
       "      <th>cover</th>\n",
       "      <th>coverLog</th>\n",
       "      <th>coverLogInt</th>\n",
       "      <th>absence</th>\n",
       "      <th>0</th>\n",
       "    </tr>\n",
       "  </thead>\n",
       "  <tbody>\n",
       "  </tbody>\n",
       "</table>\n",
       "<p>0 rows × 67 columns</p>\n",
       "</div>"
      ],
      "text/plain": [
       "Empty DataFrame\n",
       "Columns: [project, siteID, siteCode, methodSurvey, methodCover, POINT_X, POINT_Y, compoundTopographic, dateFreeze_2000s, dateThaw_2000s, elevation, floodplainsDist, growingSeason_2000s, heatLoad, integratedMoisture, precipAnnual_2000s, roughness, siteExposure, slope, streamLargeDist, streamSmallDist, summerWarmth_2000s, surfaceArea, surfaceRelief, aspect, may_2_blue, may_evi2, may_nbr, may_ndmi, may_ndsi, may_ndvi, may_ndwi, june_2_blue, june_evi2, june_nbr, june_ndmi, june_ndsi, june_ndvi, june_ndwi, july_2_blue, july_evi2, july_nbr, july_ndmi, july_ndsi, july_ndvi, july_ndwi, august_2_blue, august_evi2, august_nbr, august_ndmi, august_ndsi, august_ndvi, august_ndwi, september_2_blue, september_evi2, september_nbr, september_ndmi, september_ndsi, september_ndvi, september_ndwi, zero, strata, cover, coverLog, coverLogInt, absence, 0]\n",
       "Index: []\n",
       "\n",
       "[0 rows x 67 columns]"
      ]
     },
     "execution_count": 41,
     "metadata": {},
     "output_type": "execute_result"
    }
   ],
   "source": [
    "results"
   ]
  },
  {
   "cell_type": "code",
   "execution_count": null,
   "metadata": {},
   "outputs": [],
   "source": [
    "# Run 100 model train-predict iterations\n",
    "i = 1\n",
    "while i < 11:\n",
    "    test_data = trainPredictClassifier(input_data, all_variables, predictor_metrics, zero_variable, cover, strata)\n",
    "    results = results.append(test_data, ignore_index = True, sort = True)\n",
    "    print('Model iteration ' + str(i) + ' out of 100 trained and tested...')\n",
    "    i = i+1"
   ]
  },
  {
   "cell_type": "code",
   "execution_count": 42,
   "metadata": {},
   "outputs": [
    {
     "name": "stdout",
     "output_type": "stream",
     "text": [
      "RFS trained...\n",
      "SVS trained...\n",
      "RFLI trained...\n",
      "SVLI trained...\n",
      "RF Cover trained...\n",
      "SV cover trained...\n",
      "RF log trained...\n",
      "SV log trained...\n"
     ]
    }
   ],
   "source": [
    "test_1 = trainPredictClassifier(input_data, all_variables, predictor_metrics, strata, coverLogInt, cover, coverLog, strata)"
   ]
  },
  {
   "cell_type": "code",
   "execution_count": null,
   "metadata": {},
   "outputs": [],
   "source": [
    "test_prediction = test_1['absence'].values"
   ]
  },
  {
   "cell_type": "code",
   "execution_count": null,
   "metadata": {},
   "outputs": [],
   "source": [
    "threshold, sensitivity_test, specificity_test, auc_test, accuracy_test = determineOptimalThreshold(test_prediction, test_1['zero'])"
   ]
  },
  {
   "cell_type": "code",
   "execution_count": null,
   "metadata": {},
   "outputs": [],
   "source": [
    "print(threshold)\n",
    "print(auc_test)\n",
    "print(accuracy_test)"
   ]
  },
  {
   "cell_type": "code",
   "execution_count": 44,
   "metadata": {},
   "outputs": [],
   "source": [
    "output_file = 'E:/VegetationEcology/Data_Harmonization/Project_GIS/Data_Output/testRegression/predicted.csv'\n",
    "test_1.to_csv(output_file, header=True, index=False, sep=',', encoding='utf-8')"
   ]
  },
  {
   "cell_type": "code",
   "execution_count": null,
   "metadata": {},
   "outputs": [],
   "source": []
  },
  {
   "cell_type": "code",
   "execution_count": null,
   "metadata": {},
   "outputs": [],
   "source": []
  },
  {
   "cell_type": "code",
   "execution_count": null,
   "metadata": {},
   "outputs": [],
   "source": [
    "# Define a function to fit a regressor using training data and determine performance using the test data\n",
    "def trainTestRegressor(X_train, y_train, X_test, y_test, testData, variable):\n",
    "    # Fit a regressor to the training dataset\n",
    "    regressor = RandomForestRegressor(n_estimators=100, criterion='mse', bootstrap=True, oob_score=False, n_jobs=16)\n",
    "    regressor.fit(X_train, y_train)\n",
    "    # Use the regressor to predict values for the test dataset\n",
    "    test_prediction = regressor.predict(X_test)\n",
    "    # Calculate the r^2\n",
    "    r_score = r2_score(y_test, test_prediction, sample_weight=None, multioutput='uniform_average')\n",
    "    # Calculate error\n",
    "    mae = mean_absolute_error(y_test, test_prediction)\n",
    "    mse = mean_squared_error(y_test, test_prediction)\n",
    "    rmse = np.sqrt(mse)\n",
    "    # Concatenate predicted values to test data frame\n",
    "    testData = pd.concat([testData, pd.DataFrame(test_prediction)], axis=1)\n",
    "    testData = testData.rename(index=int, columns={0: variable})\n",
    "    return [r_score, mae, mse, rmse, testData]\n",
    "\n",
    "print('Function \"trainTestRegressor\" loaded.')"
   ]
  },
  {
   "cell_type": "code",
   "execution_count": null,
   "metadata": {},
   "outputs": [],
   "source": [
    "# Import raw train and test data\n",
    "train_data_raw = pd.read_csv(train_file_raw)\n",
    "test_data_raw = pd.read_csv(test_file_raw)\n",
    "# Convert numerical data to float\n",
    "train_data_raw[predictor_metrics + cover + coverLog + coordinates] = train_data_raw[predictor_metrics + cover + coverLog + coordinates].astype(float)\n",
    "test_data_raw[predictor_metrics + cover + coverLog + coordinates] = test_data_raw[predictor_metrics + cover + coverLog + coordinates].astype(float)\n",
    "# Convert class data to integer\n",
    "train_data_raw[zero_variable + strata] = train_data_raw[zero_variable + strata].astype(int)\n",
    "test_data_raw[zero_variable + strata] = test_data_raw[zero_variable + strata].astype(int)"
   ]
  },
  {
   "cell_type": "code",
   "execution_count": null,
   "metadata": {},
   "outputs": [],
   "source": [
    "# Import scaled train and test data\n",
    "train_data_scaled = pd.read_csv(train_file_scaled)\n",
    "test_data_scaled = pd.read_csv(test_file_scaled)\n",
    "# Convert numerical data to float\n",
    "train_data_scaled[predictor_metrics + cover + coverLog + coordinates] = train_data_scaled[predictor_metrics + cover + coverLog + coordinates].astype(float)\n",
    "test_data_scaled[predictor_metrics + cover + coverLog + coordinates] = test_data_scaled[predictor_metrics + cover + coverLog + coordinates].astype(float)\n",
    "# Convert class data to integer\n",
    "train_data_scaled[zero_variable + strata] = train_data_scaled[zero_variable + strata].astype(int)\n",
    "test_data_scaled[zero_variable + strata] = test_data_scaled[zero_variable + strata].astype(int)"
   ]
  },
  {
   "cell_type": "code",
   "execution_count": null,
   "metadata": {},
   "outputs": [],
   "source": [
    "# Conduct Random Forest Regression for the raw data with cover\n",
    "X_train = train_data_raw[predictor_metrics]\n",
    "y_train = train_data_raw[cover[0]]\n",
    "X_test = test_data_raw[predictor_metrics]\n",
    "y_test = test_data_raw[cover[0]]\n",
    "r_score_1, mae_1, mse_1, rmse_1, test_data_raw = trainTestRegressor(X_train, y_train, X_test, y_test, test_data_raw, 'predictCover')\n",
    "\n",
    "# Conduct Random Forest Regression for the raw data with coverLog\n",
    "X_train = train_data_raw[predictor_metrics]\n",
    "y_train = train_data_raw[coverLog[0]]\n",
    "X_test = test_data_raw[predictor_metrics]\n",
    "y_test = test_data_raw[coverLog[0]]\n",
    "r_score_2, mae_2, mse_2, rmse_2, test_data_raw = trainTestRegressor(X_train, y_train, X_test, y_test, test_data_raw, 'predictCoverLog')\n",
    "\n",
    "# Export the prediction of the raw data\n",
    "python_raw = 'E:/VegetationEcology/Data_Harmonization/Project_GIS/Data_Output/testRegression/python_raw.csv'\n",
    "test_data_raw.to_csv(python_raw, header=True, index=False, sep=',', encoding='utf-8')"
   ]
  },
  {
   "cell_type": "code",
   "execution_count": null,
   "metadata": {},
   "outputs": [],
   "source": [
    "print(r_score_1)\n",
    "print(rmse_1)\n",
    "print(mae_1)"
   ]
  },
  {
   "cell_type": "code",
   "execution_count": null,
   "metadata": {},
   "outputs": [],
   "source": [
    "print(r_score_2)\n",
    "print(rmse_2)\n",
    "print(mae_2)"
   ]
  },
  {
   "cell_type": "code",
   "execution_count": null,
   "metadata": {},
   "outputs": [],
   "source": [
    "# Conduct Random Forest Regression for the scaled data with cover\n",
    "X_train = train_data_scaled[predictor_metrics]\n",
    "y_train = train_data_scaled[cover[0]]\n",
    "X_test = test_data_scaled[predictor_metrics]\n",
    "y_test = test_data_scaled[cover[0]]\n",
    "r_score_3, mae_3, mse_3, rmse_3, test_data_scaled = trainTestRegressor(X_train, y_train, X_test, y_test, test_data_scaled, 'predictCover')\n",
    "\n",
    "# Conduct Random Forest Regression for the scaled data with coverLog\n",
    "X_train = train_data_scaled[predictor_metrics]\n",
    "y_train = train_data_scaled[coverLog[0]]\n",
    "X_test = test_data_scaled[predictor_metrics]\n",
    "y_test = test_data_scaled[coverLog[0]]\n",
    "r_score_4, mae_4, mse_4, rmse_4, test_data_scaled = trainTestRegressor(X_train, y_train, X_test, y_test, test_data_scaled, 'predictCoverLog')\n",
    "\n",
    "# Export the prediction of the scaled data\n",
    "python_scaled = 'E:/VegetationEcology/Data_Harmonization/Project_GIS/Data_Output/testRegression/python_scaled.csv'\n",
    "test_data_scaled.to_csv(python_scaled, header=True, index=False, sep=',', encoding='utf-8')"
   ]
  },
  {
   "cell_type": "code",
   "execution_count": null,
   "metadata": {},
   "outputs": [],
   "source": [
    "print(r_score_3)\n",
    "print(rmse_3)\n",
    "print(mae_3)"
   ]
  },
  {
   "cell_type": "code",
   "execution_count": null,
   "metadata": {},
   "outputs": [],
   "source": [
    "print(r_score_4)\n",
    "print(rmse_4)\n",
    "print(mae_4)"
   ]
  },
  {
   "cell_type": "code",
   "execution_count": null,
   "metadata": {},
   "outputs": [],
   "source": []
  }
 ],
 "metadata": {
  "kernelspec": {
   "display_name": "Python 3",
   "language": "python",
   "name": "python3"
  },
  "language_info": {
   "codemirror_mode": {
    "name": "ipython",
    "version": 3
   },
   "file_extension": ".py",
   "mimetype": "text/x-python",
   "name": "python",
   "nbconvert_exporter": "python",
   "pygments_lexer": "ipython3",
   "version": "3.6.5"
  }
 },
 "nbformat": 4,
 "nbformat_minor": 2
}
