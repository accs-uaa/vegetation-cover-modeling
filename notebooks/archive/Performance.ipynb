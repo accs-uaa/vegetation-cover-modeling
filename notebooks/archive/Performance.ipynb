{
 "cells": [
  {
   "cell_type": "code",
   "execution_count": 1,
   "metadata": {},
   "outputs": [
    {
     "name": "stdout",
     "output_type": "stream",
     "text": [
      "All modules successfully imported.\n"
     ]
    }
   ],
   "source": [
    "# Import modules\n",
    "import os\n",
    "import numpy as np\n",
    "import pandas as pd\n",
    "from sklearn.metrics import mean_squared_error\n",
    "from sklearn.metrics import mean_absolute_error\n",
    "from sklearn.metrics import r2_score\n",
    "print('All modules successfully imported.')"
   ]
  },
  {
   "cell_type": "code",
   "execution_count": 2,
   "metadata": {},
   "outputs": [],
   "source": [
    "# Define input file\n",
    "test_file = 'K:/VegetationEcology/Data_Harmonization/Project_GIS/Data_Output/continuous/modelResults/salix_pulchra_xgb_aim/prediction.csv'\n",
    "# Define true response\n",
    "true = ['cover']\n",
    "# Define predicted response\n",
    "predicted = ['response']\n",
    "# Create data frame for each file\n",
    "test_data = pd.read_csv(test_file)"
   ]
  },
  {
   "cell_type": "markdown",
   "metadata": {},
   "source": [
    "### Overall Performance of Abundance"
   ]
  },
  {
   "cell_type": "code",
   "execution_count": 3,
   "metadata": {},
   "outputs": [],
   "source": [
    "# Subset the data to presences\n",
    "test_data = test_data[test_data[true[0]] >= 1]"
   ]
  },
  {
   "cell_type": "code",
   "execution_count": 4,
   "metadata": {},
   "outputs": [],
   "source": [
    "# Calculate r2 and error for python raw cover\n",
    "y_test = test_data[true[0]]\n",
    "test_prediction = test_data[predicted[0]]\n",
    "r_score = r2_score(y_test, test_prediction, sample_weight=None, multioutput='uniform_average')\n",
    "mae = mean_absolute_error(y_test, test_prediction)\n",
    "mse = mean_squared_error(y_test, test_prediction)\n",
    "rmse = np.sqrt(mse)"
   ]
  },
  {
   "cell_type": "code",
   "execution_count": 5,
   "metadata": {},
   "outputs": [
    {
     "name": "stdout",
     "output_type": "stream",
     "text": [
      "-0.23110381919340361\n",
      "18.669241375436116\n",
      "12.628207439728808\n"
     ]
    }
   ],
   "source": [
    "# Calculate overall performance\n",
    "print(r_score)\n",
    "print(rmse)\n",
    "print(mae)"
   ]
  },
  {
   "cell_type": "markdown",
   "metadata": {},
   "source": [
    "### 10 m grid"
   ]
  },
  {
   "cell_type": "code",
   "execution_count": 6,
   "metadata": {},
   "outputs": [],
   "source": [
    "# Subset the data to ABR Shell\n",
    "ten_data = test_data[(test_data['project'] != 'ABR Shell') & (test_data['project'] != 'AIM NPR-A')]"
   ]
  },
  {
   "cell_type": "code",
   "execution_count": 7,
   "metadata": {},
   "outputs": [],
   "source": [
    "# Calculate r2 and error for python raw cover\n",
    "y_test = ten_data[true[0]]\n",
    "test_prediction = ten_data[predicted[0]]\n",
    "r_score = r2_score(y_test, test_prediction, sample_weight=None, multioutput='uniform_average')\n",
    "mae = mean_absolute_error(y_test, test_prediction)\n",
    "mse = mean_squared_error(y_test, test_prediction)\n",
    "rmse = np.sqrt(mse)"
   ]
  },
  {
   "cell_type": "code",
   "execution_count": 8,
   "metadata": {},
   "outputs": [
    {
     "name": "stdout",
     "output_type": "stream",
     "text": [
      "-0.34002568545744594\n",
      "22.8771533053418\n",
      "16.616256774317282\n"
     ]
    }
   ],
   "source": [
    "# Calculate overall performance\n",
    "print(r_score)\n",
    "print(rmse)\n",
    "print(mae)"
   ]
  },
  {
   "cell_type": "markdown",
   "metadata": {},
   "source": [
    "### AIM NPR-A (60 m grid)"
   ]
  },
  {
   "cell_type": "code",
   "execution_count": 9,
   "metadata": {},
   "outputs": [],
   "source": [
    "# Subset the data to AIM NPR-A\n",
    "aim_data = test_data[test_data['project'] == 'AIM NPR-A']"
   ]
  },
  {
   "cell_type": "code",
   "execution_count": 10,
   "metadata": {},
   "outputs": [],
   "source": [
    "# Calculate r2 and error for python raw cover\n",
    "y_test = aim_data[true[0]]\n",
    "test_prediction = aim_data[predicted[0]]\n",
    "r_score = r2_score(y_test, test_prediction, sample_weight=None, multioutput='uniform_average')\n",
    "mae = mean_absolute_error(y_test, test_prediction)\n",
    "mse = mean_squared_error(y_test, test_prediction)\n",
    "rmse = np.sqrt(mse)"
   ]
  },
  {
   "cell_type": "code",
   "execution_count": 11,
   "metadata": {},
   "outputs": [
    {
     "name": "stdout",
     "output_type": "stream",
     "text": [
      "0.47659091297857636\n",
      "8.853017753526565\n",
      "6.146255216247093\n"
     ]
    }
   ],
   "source": [
    "# Calculate performance of 60 m data\n",
    "print(r_score)\n",
    "print(rmse)\n",
    "print(mae)"
   ]
  },
  {
   "cell_type": "markdown",
   "metadata": {},
   "source": [
    "### ABR Shell (110 m grid)"
   ]
  },
  {
   "cell_type": "code",
   "execution_count": 12,
   "metadata": {},
   "outputs": [],
   "source": [
    "# Subset the data to ABR Shell\n",
    "abr_data = test_data[test_data['project'] == 'ABR Shell']"
   ]
  },
  {
   "cell_type": "code",
   "execution_count": 13,
   "metadata": {},
   "outputs": [],
   "source": [
    "# Calculate r2 and error for python raw cover\n",
    "y_test = abr_data[true[0]]\n",
    "test_prediction = abr_data[predicted[0]]\n",
    "r_score = r2_score(y_test, test_prediction, sample_weight=None, multioutput='uniform_average')\n",
    "mae = mean_absolute_error(y_test, test_prediction)\n",
    "mse = mean_squared_error(y_test, test_prediction)\n",
    "rmse = np.sqrt(mse)"
   ]
  },
  {
   "cell_type": "code",
   "execution_count": 14,
   "metadata": {},
   "outputs": [
    {
     "name": "stdout",
     "output_type": "stream",
     "text": [
      "-0.1335264429874965\n",
      "13.951963559308252\n",
      "9.190382244509651\n"
     ]
    }
   ],
   "source": [
    "# Calculate performance of 110 m data\n",
    "print(r_score)\n",
    "print(rmse)\n",
    "print(mae)"
   ]
  },
  {
   "cell_type": "code",
   "execution_count": null,
   "metadata": {},
   "outputs": [],
   "source": []
  }
 ],
 "metadata": {
  "kernelspec": {
   "display_name": "Python 3",
   "language": "python",
   "name": "python3"
  },
  "language_info": {
   "codemirror_mode": {
    "name": "ipython",
    "version": 3
   },
   "file_extension": ".py",
   "mimetype": "text/x-python",
   "name": "python",
   "nbconvert_exporter": "python",
   "pygments_lexer": "ipython3",
   "version": "3.6.5"
  }
 },
 "nbformat": 4,
 "nbformat_minor": 2
}
